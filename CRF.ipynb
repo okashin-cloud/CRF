{
 "cells": [
  {
   "cell_type": "code",
   "execution_count": 1,
   "metadata": {
    "ExecuteTime": {
     "end_time": "2022-03-07T07:09:25.464854Z",
     "start_time": "2022-03-07T07:09:24.311250Z"
    }
   },
   "outputs": [],
   "source": [
    "import numpy as np\n",
    "import torch\n",
    "import copy\n",
    "import torch.autograd as autograd\n",
    "import torch.nn as nn\n",
    "import torch.optim as optim\n",
    "import torch.nn.functional as F\n",
    "import torch.nn.utils.rnn as rnn\n",
    "import torch.utils.data\n",
    "import gc\n",
    "import csv"
   ]
  },
  {
   "cell_type": "code",
   "execution_count": 2,
   "metadata": {
    "ExecuteTime": {
     "end_time": "2022-03-07T07:09:25.480693Z",
     "start_time": "2022-03-07T07:09:25.468730Z"
    }
   },
   "outputs": [],
   "source": [
    "def log_sum_exp(input, keepdim=False):\n",
    "    assert input.dim() == 2\n",
    "    max_scores, _ = input.max(dim=-1, keepdim=True)\n",
    "    output = input - max_scores\n",
    "    return max_scores + torch.log(torch.sum(torch.exp(output), dim=-1, keepdim=keepdim))\n",
    "\n",
    "\n",
    "def gather_index(input, index):\n",
    "    assert input.dim() == 2 and index.dim() == 1\n",
    "    index = index.unsqueeze(1).expand_as(input)\n",
    "    output = torch.gather(input, 1, index)\n",
    "    return output[:, 0]"
   ]
  },
  {
   "cell_type": "code",
   "execution_count": 3,
   "metadata": {
    "ExecuteTime": {
     "end_time": "2022-03-07T07:09:25.618558Z",
     "start_time": "2022-03-07T07:09:25.483882Z"
    }
   },
   "outputs": [],
   "source": [
    "class CRF(nn.Module):\n",
    "    def __init__(self, label_size,tag_to_ix,use_cuda=False):\n",
    "        super().__init__()\n",
    "        self.label_size = label_size\n",
    "        self.transitions = nn.Parameter(\n",
    "            torch.randn(label_size, label_size))\n",
    "        self.transitions.data[tag_to_ix[START_TAG], :] = -10000\n",
    "        self.transitions.data[:, tag_to_ix[STOP_TAG]] = -10000\n",
    "        if use_cuda:\n",
    "            self.torch = torch.cuda\n",
    "        else:\n",
    "            self.torch = torch\n",
    "        \n",
    "\n",
    "    def _score_sentence(self, feats, tags):\n",
    "        bsz, sent_len, l_size = feats.size()\n",
    "        score = self.torch.FloatTensor(bsz).fill_(0.)\n",
    "        \n",
    "        s_score = self.torch.LongTensor([[tag_to_ix[START_TAG]]] * bsz)\n",
    "        \n",
    "        tags = torch.cat([s_score, tags], dim=-1)\n",
    "        feats_t = feats.transpose(0, 1)\n",
    "\n",
    "        for i, feat in enumerate(feats_t):\n",
    "            temp = self.transitions.index_select(1, tags[:, i])\n",
    "            bsz_t = gather_index(temp.transpose(0, 1), tags[:, i + 1])\n",
    "            w_step_score = gather_index(feat, tags[:, i + 1])\n",
    "            score = score + bsz_t + w_step_score\n",
    "\n",
    "        temp = self.transitions.index_select(1, tags[:, -1])\n",
    "        bsz_t = gather_index(temp.transpose(0, 1),\n",
    "                             (self.torch.LongTensor([tag_to_ix[STOP_TAG]] * bsz)))\n",
    "        return score + bsz_t\n",
    "\n",
    "    def forward(self, feats):\n",
    "        bsz, sent_len, l_size = feats.size()\n",
    "        init_alphas = self.torch.FloatTensor(\n",
    "            bsz, self.label_size).fill_(-10000.)\n",
    "        \n",
    "        init_alphas[:, tag_to_ix[START_TAG]].fill_(0.) \n",
    "        forward_var = init_alphas\n",
    "        feats_t = feats.transpose(0, 1)\n",
    "        for feat in feats_t:\n",
    "            alphas_t = []\n",
    "            for next_tag in range(self.label_size):\n",
    "                emit_score = feat[:, next_tag].view(-1, 1)\n",
    "                trans_score = self.transitions[next_tag].view(1, -1)\n",
    "                next_tag_var = forward_var + trans_score + emit_score\n",
    "                alphas_t.append(log_sum_exp(next_tag_var, True))\n",
    "            forward_var = torch.cat(alphas_t, dim=-1)\n",
    "        forward_var = forward_var + self.transitions[tag_to_ix[STOP_TAG]].view(\n",
    "            1, -1)\n",
    "        \n",
    "        return log_sum_exp(forward_var)\n",
    "\n",
    "    def viterbi_decode(self, feats):\n",
    "        backpointers = []\n",
    "        bsz, sent_len, l_size = feats.size()\n",
    "\n",
    "        init_vvars = self.torch.FloatTensor(\n",
    "            bsz, self.label_size).fill_(-10000.)\n",
    "        \n",
    "        init_vvars[:, tag_to_ix[START_TAG]].fill_(0.)\n",
    "        forward_var = init_vvars\n",
    "\n",
    "        feats_t = feats.transpose(0, 1)\n",
    "        for feat in feats_t:\n",
    "            bptrs_t = []\n",
    "            viterbivars_t = []\n",
    "\n",
    "            for next_tag in range(self.label_size):\n",
    "                _trans = self.transitions[next_tag].view(\n",
    "                    1, -1).expand_as(feat)\n",
    "                next_tag_var = forward_var + _trans\n",
    "                best_tag_scores, best_tag_ids = torch.max(\n",
    "                    next_tag_var, 1, keepdim=True)  \n",
    "                bptrs_t.append(best_tag_ids)\n",
    "                viterbivars_t.append(best_tag_scores)\n",
    "\n",
    "            forward_var = torch.cat(viterbivars_t, -1) + feat\n",
    "            backpointers.append(torch.cat(bptrs_t, dim=-1))\n",
    "\n",
    "        terminal_var = forward_var + self.transitions[tag_to_ix[STOP_TAG]].view(1, -1)\n",
    "        _, best_tag_ids = torch.max(terminal_var, 1)\n",
    "\n",
    "        best_path = [best_tag_ids.view(-1, 1)]\n",
    "        for bptrs_t in reversed(backpointers):\n",
    "            best_tag_ids = gather_index(bptrs_t, best_tag_ids)\n",
    "            best_path.append(best_tag_ids.contiguous().view(-1, 1))\n",
    "\n",
    "        best_path.pop()\n",
    "        best_path.reverse()\n",
    "\n",
    "        return torch.cat(best_path, dim=-1)\n"
   ]
  }
 ],
 "metadata": {
  "kernelspec": {
   "display_name": "Python 3",
   "language": "python",
   "name": "python3"
  },
  "language_info": {
   "codemirror_mode": {
    "name": "ipython",
    "version": 3
   },
   "file_extension": ".py",
   "mimetype": "text/x-python",
   "name": "python",
   "nbconvert_exporter": "python",
   "pygments_lexer": "ipython3",
   "version": "3.8.3"
  },
  "toc": {
   "base_numbering": 1,
   "nav_menu": {},
   "number_sections": true,
   "sideBar": true,
   "skip_h1_title": false,
   "title_cell": "Table of Contents",
   "title_sidebar": "Contents",
   "toc_cell": false,
   "toc_position": {},
   "toc_section_display": true,
   "toc_window_display": false
  }
 },
 "nbformat": 4,
 "nbformat_minor": 2
}
